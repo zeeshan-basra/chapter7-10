{
 "cells": [
  {
   "cell_type": "markdown",
   "source": [
    "# Purpose of OOP"
   ],
   "metadata": {
    "collapsed": false
   },
   "id": "8b3f1b1ae95394ae"
  },
  {
   "cell_type": "markdown",
   "source": [
    "### Our custom class"
   ],
   "metadata": {
    "collapsed": false
   },
   "id": "4bf22b34c9f51de"
  },
  {
   "cell_type": "code",
   "execution_count": 1,
   "outputs": [],
   "source": [
    "class Fraction:\n",
    "    def __init__(self, x: int, y: int):\n",
    "        self.numerator: int = x\n",
    "        self.denominator: int = y\n",
    "        \n",
    "    def __str__(self) -> str:\n",
    "        return f\"{self.numerator}/{self.denominator}\"\n",
    "    \n",
    "    def __add__(self, other):\n",
    "        new_num = self.numerator * other.denominator + other.numerator * self.denominator\n",
    "        new_den = self.denominator * other.denominator\n",
    "        \n",
    "        return f\"{new_num}/{new_den}\"\n",
    "    \n",
    "    def __sub__(self, other):\n",
    "        new_num = self.numerator * other.denominator - other.numerator * self.denominator\n",
    "        new_den = self.denominator * other.denominator\n",
    "        \n",
    "        return f\"{new_num}/{new_den}\"\n",
    "        \n",
    "    def __truediv__(self, other):\n",
    "        new_num = self.numerator * other.denominator\n",
    "        new_den = self.denominator * other.numerator\n",
    "        \n",
    "        return f\"{new_num}/{new_den}\""
   ],
   "metadata": {
    "collapsed": false,
    "ExecuteTime": {
     "end_time": "2023-09-20T18:55:05.877408896Z",
     "start_time": "2023-09-20T18:55:05.862592554Z"
    }
   },
   "id": "20d509976d64fbd0"
  },
  {
   "cell_type": "code",
   "execution_count": 2,
   "outputs": [],
   "source": [
    "frac1 = Fraction(4, 5)"
   ],
   "metadata": {
    "collapsed": false,
    "ExecuteTime": {
     "end_time": "2023-09-20T18:55:08.581594785Z",
     "start_time": "2023-09-20T18:55:08.538802192Z"
    }
   },
   "id": "1c5129e7f6a95629"
  },
  {
   "cell_type": "code",
   "execution_count": 3,
   "outputs": [],
   "source": [
    "frac2 = Fraction(1, 2)"
   ],
   "metadata": {
    "collapsed": false,
    "ExecuteTime": {
     "end_time": "2023-09-20T18:55:17.107530653Z",
     "start_time": "2023-09-20T18:55:16.979894217Z"
    }
   },
   "id": "f97369ca1cb0a7"
  },
  {
   "cell_type": "code",
   "execution_count": 4,
   "outputs": [
    {
     "name": "stdout",
     "output_type": "stream",
     "text": [
      "13/10\n"
     ]
    }
   ],
   "source": [
    "print( frac1 + frac2)"
   ],
   "metadata": {
    "collapsed": false,
    "ExecuteTime": {
     "end_time": "2023-09-20T18:55:33.891329604Z",
     "start_time": "2023-09-20T18:55:33.789899882Z"
    }
   },
   "id": "2498320cc0998335"
  },
  {
   "cell_type": "code",
   "execution_count": 5,
   "outputs": [
    {
     "name": "stdout",
     "output_type": "stream",
     "text": [
      "3/10\n"
     ]
    }
   ],
   "source": [
    "print(frac1 - frac2)"
   ],
   "metadata": {
    "collapsed": false,
    "ExecuteTime": {
     "end_time": "2023-09-20T18:55:44.512031857Z",
     "start_time": "2023-09-20T18:55:44.394829679Z"
    }
   },
   "id": "76d0e5e6032fdca8"
  },
  {
   "cell_type": "code",
   "execution_count": 6,
   "outputs": [
    {
     "name": "stdout",
     "output_type": "stream",
     "text": [
      "8/5\n"
     ]
    }
   ],
   "source": [
    "print(frac1 / frac2)"
   ],
   "metadata": {
    "collapsed": false,
    "ExecuteTime": {
     "end_time": "2023-09-20T18:55:55.542091032Z",
     "start_time": "2023-09-20T18:55:55.423200933Z"
    }
   },
   "id": "847a0ac26257af8d"
  },
  {
   "cell_type": "markdown",
   "source": [
    "## self keyword"
   ],
   "metadata": {
    "collapsed": false
   },
   "id": "7110fdc093fcbe2f"
  },
  {
   "cell_type": "code",
   "execution_count": 7,
   "outputs": [],
   "source": [
    "class Python:\n",
    "    def __init__(self):\n",
    "        print(id(self))\n",
    "    @staticmethod\n",
    "    def add():\n",
    "        print(6 + 5)"
   ],
   "metadata": {
    "collapsed": false,
    "ExecuteTime": {
     "end_time": "2023-09-20T18:56:52.528703216Z",
     "start_time": "2023-09-20T18:56:52.468817646Z"
    }
   },
   "id": "d479558db6064684"
  },
  {
   "cell_type": "code",
   "execution_count": 8,
   "outputs": [
    {
     "name": "stdout",
     "output_type": "stream",
     "text": [
      "140480668652624\n"
     ]
    }
   ],
   "source": [
    "obj = Python()"
   ],
   "metadata": {
    "collapsed": false,
    "ExecuteTime": {
     "end_time": "2023-09-20T18:56:59.911347001Z",
     "start_time": "2023-09-20T18:56:59.782442550Z"
    }
   },
   "id": "efb761a8b943bb9a"
  },
  {
   "cell_type": "code",
   "execution_count": 9,
   "outputs": [
    {
     "name": "stdout",
     "output_type": "stream",
     "text": [
      "11\n"
     ]
    }
   ],
   "source": [
    "obj.add() # Python.add(obj)"
   ],
   "metadata": {
    "collapsed": false,
    "ExecuteTime": {
     "end_time": "2023-09-20T18:57:14.518192309Z",
     "start_time": "2023-09-20T18:57:14.408173044Z"
    }
   },
   "id": "833ec4066cd9c858"
  },
  {
   "cell_type": "markdown",
   "source": [
    "## Inheritance"
   ],
   "metadata": {
    "collapsed": false
   },
   "id": "271a82bfb5555a27"
  },
  {
   "cell_type": "code",
   "execution_count": 10,
   "outputs": [],
   "source": [
    "class Cython:\n",
    "    def __init__(self):\n",
    "        self.name = \"Jython\"\n",
    "        \n",
    "    @staticmethod\n",
    "    def speak():\n",
    "        print(\"This is Cython Language.\")\n",
    "\n",
    "class Python(Cython):\n",
    "#     def __init__(self):\n",
    "#         self.name = \"Rust\"\n",
    "    ..."
   ],
   "metadata": {
    "collapsed": false,
    "ExecuteTime": {
     "end_time": "2023-09-20T18:57:53.876593015Z",
     "start_time": "2023-09-20T18:57:53.823290367Z"
    }
   },
   "id": "778c1c00637c3754"
  },
  {
   "cell_type": "code",
   "execution_count": 11,
   "outputs": [],
   "source": [
    "py = Python()"
   ],
   "metadata": {
    "collapsed": false,
    "ExecuteTime": {
     "end_time": "2023-09-20T18:58:01.402785293Z",
     "start_time": "2023-09-20T18:58:01.326913715Z"
    }
   },
   "id": "d08d690d4ae5ab54"
  },
  {
   "cell_type": "code",
   "execution_count": 12,
   "outputs": [
    {
     "data": {
      "text/plain": "'Jython'"
     },
     "execution_count": 12,
     "metadata": {},
     "output_type": "execute_result"
    }
   ],
   "source": [
    "py.name"
   ],
   "metadata": {
    "collapsed": false,
    "ExecuteTime": {
     "end_time": "2023-09-20T18:58:04.832268836Z",
     "start_time": "2023-09-20T18:58:04.798339590Z"
    }
   },
   "id": "dfd6f35bf9bc84af"
  },
  {
   "cell_type": "markdown",
   "source": [
    "## dict data type"
   ],
   "metadata": {
    "collapsed": false
   },
   "id": "e8f4d37ff35f5ee7"
  },
  {
   "cell_type": "code",
   "execution_count": 13,
   "outputs": [],
   "source": [
    "x = {'Py': 'thon', 'Jy': 'thon'}"
   ],
   "metadata": {
    "collapsed": false,
    "ExecuteTime": {
     "end_time": "2023-09-20T18:58:45.937188660Z",
     "start_time": "2023-09-20T18:58:45.881444589Z"
    }
   },
   "id": "a5321df1d17905ce"
  },
  {
   "cell_type": "code",
   "execution_count": 14,
   "outputs": [
    {
     "data": {
      "text/plain": "dict_keys(['Py', 'Jy'])"
     },
     "execution_count": 14,
     "metadata": {},
     "output_type": "execute_result"
    }
   ],
   "source": [
    "x.keys()"
   ],
   "metadata": {
    "collapsed": false,
    "ExecuteTime": {
     "end_time": "2023-09-20T18:58:50.447712506Z",
     "start_time": "2023-09-20T18:58:50.410542567Z"
    }
   },
   "id": "90423912a62b122b"
  },
  {
   "cell_type": "code",
   "execution_count": 15,
   "outputs": [
    {
     "data": {
      "text/plain": "dict_values(['thon', 'thon'])"
     },
     "execution_count": 15,
     "metadata": {},
     "output_type": "execute_result"
    }
   ],
   "source": [
    "x.values()"
   ],
   "metadata": {
    "collapsed": false,
    "ExecuteTime": {
     "end_time": "2023-09-20T18:58:55.104145536Z",
     "start_time": "2023-09-20T18:58:55.072037876Z"
    }
   },
   "id": "5ee78cca7e1244b0"
  },
  {
   "cell_type": "code",
   "execution_count": 16,
   "outputs": [
    {
     "data": {
      "text/plain": "dict_items([('Py', 'thon'), ('Jy', 'thon')])"
     },
     "execution_count": 16,
     "metadata": {},
     "output_type": "execute_result"
    }
   ],
   "source": [
    "x.items()"
   ],
   "metadata": {
    "collapsed": false,
    "ExecuteTime": {
     "end_time": "2023-09-20T18:59:02.112160626Z",
     "start_time": "2023-09-20T18:59:02.014511200Z"
    }
   },
   "id": "fd84abd53d990ee7"
  },
  {
   "cell_type": "code",
   "execution_count": null,
   "outputs": [],
   "source": [],
   "metadata": {
    "collapsed": false
   },
   "id": "32ec940f7336ac"
  }
 ],
 "metadata": {
  "kernelspec": {
   "display_name": "Python 3",
   "language": "python",
   "name": "python3"
  },
  "language_info": {
   "codemirror_mode": {
    "name": "ipython",
    "version": 2
   },
   "file_extension": ".py",
   "mimetype": "text/x-python",
   "name": "python",
   "nbconvert_exporter": "python",
   "pygments_lexer": "ipython2",
   "version": "2.7.6"
  }
 },
 "nbformat": 4,
 "nbformat_minor": 5
}
